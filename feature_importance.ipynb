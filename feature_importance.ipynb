{
 "cells": [
  {
   "cell_type": "code",
   "execution_count": 1,
   "metadata": {
    "collapsed": true
   },
   "outputs": [],
   "source": [
    "import pandas as pd\n",
    "from sklearn.discriminant_analysis import LinearDiscriminantAnalysis\n",
    "from sklearn.neighbors import KNeighborsClassifier\n",
    "from sklearn.neural_network import MLPClassifier\n",
    "\n",
    "from src.classifier import train_models, remove_na_values\n",
    "from sklearn.ensemble import RandomForestClassifier\n",
    "import matplotlib.pyplot as plt\n",
    "import numpy as np\n",
    "from sklearn.metrics import accuracy_score\n",
    "from tqdm import tqdm"
   ]
  },
  {
   "cell_type": "markdown",
   "source": [
    "## Feature selection from random forest"
   ],
   "metadata": {
    "collapsed": false
   }
  },
  {
   "cell_type": "code",
   "execution_count": 2,
   "outputs": [],
   "source": [
    "models = [RandomForestClassifier(random_state=0)]\n",
    "\n",
    "df = remove_na_values(pd.read_csv('data/data.csv'))"
   ],
   "metadata": {
    "collapsed": false
   }
  },
  {
   "cell_type": "code",
   "execution_count": 46,
   "outputs": [
    {
     "data": {
      "text/plain": "                       data_donor_email  session_id  version  \\\n6      007f18a9c4040ebd5addaa48ec64a3b5           1        7   \n7      007f18a9c4040ebd5addaa48ec64a3b5           1        8   \n8      007f18a9c4040ebd5addaa48ec64a3b5           1        9   \n9      007f18a9c4040ebd5addaa48ec64a3b5           1       10   \n10     007f18a9c4040ebd5addaa48ec64a3b5           1       11   \n...                                 ...         ...      ...   \n21799  f690d1438368d0b3ea405a28e1aa0e2c           1       89   \n21800  f690d1438368d0b3ea405a28e1aa0e2c           1       90   \n21801  f690d1438368d0b3ea405a28e1aa0e2c           1       91   \n21802  f690d1438368d0b3ea405a28e1aa0e2c           1       92   \n21803  f690d1438368d0b3ea405a28e1aa0e2c           1       93   \n\n                    event_time  A_KEY_TIME_MEAN  BOTH_DEV_C_COUNT  GAP_D1  \\\n6      2019-03-27 12:15:43.074            0.106             0.167   0.023   \n7      2019-03-27 12:15:53.300            0.108             0.143   0.017   \n8      2019-03-27 12:16:04.313            0.107             0.125   0.017   \n9      2019-03-27 12:16:16.698            0.106             0.167   0.017   \n10     2019-03-27 12:16:26.876            0.106             0.167   0.020   \n...                        ...              ...               ...     ...   \n21799  2019-10-30 15:40:33.240            0.099             0.750   0.035   \n21800  2019-10-30 15:40:43.441            0.099             0.750   0.034   \n21801  2019-10-30 15:40:54.138            0.099             0.755   0.034   \n21802  2019-10-30 15:41:04.318            0.100             0.755   0.033   \n21803  2019-10-30 15:41:14.619            0.100             0.760   0.032   \n\n       GAP_D2  GAP_D3  GAP_D4  ...  MULTIPLE_KEYS_UP  MULTIPLE_KEYS_UP_D1  \\\n6       0.046   0.063   0.079  ...               0.0                  0.0   \n7       0.045   0.063   0.073  ...               1.0                  0.0   \n8       0.037   0.056   0.071  ...               0.0                  0.0   \n9       0.036   0.056   0.069  ...               0.0                  0.0   \n10      0.037   0.059   0.071  ...               0.0                  0.0   \n...       ...     ...     ...  ...               ...                  ...   \n21799   0.060   0.072   0.082  ...               0.0                  0.0   \n21800   0.060   0.072   0.082  ...               0.0                  0.0   \n21801   0.060   0.072   0.082  ...               0.0                  0.0   \n21802   0.060   0.072   0.082  ...               1.0                  0.0   \n21803   0.060   0.072   0.082  ...               0.0                  0.0   \n\n       MULTIPLE_KEYS_UP_D2  MULTIPLE_KEYS_UP_D3  MULTIPLE_KEYS_UP_D4  \\\n6                      1.0                  1.0                  2.0   \n7                      1.0                  1.0                  2.0   \n8                      1.0                  1.0                  2.0   \n9                      1.0                  2.0                  2.0   \n10                     1.0                  1.0                  2.0   \n...                    ...                  ...                  ...   \n21799                  1.0                  1.0                  1.0   \n21800                  1.0                  1.0                  1.0   \n21801                  1.0                  1.0                  1.0   \n21802                  1.0                  1.0                  1.0   \n21803                  1.0                  1.0                  1.0   \n\n       MULTIPLE_KEYS_UP_D5  MULTIPLE_KEYS_UP_D6  MULTIPLE_KEYS_UP_D7  \\\n6                      2.0                  2.0                  2.0   \n7                      2.0                  2.0                  3.0   \n8                      2.0                  2.0                  3.0   \n9                      2.0                  2.0                  3.0   \n10                     2.0                  2.0                  3.0   \n...                    ...                  ...                  ...   \n21799                  2.0                  2.0                  2.0   \n21800                  2.0                  2.0                  2.0   \n21801                  2.0                  2.0                  2.0   \n21802                  2.0                  2.0                  2.0   \n21803                  2.0                  2.0                  2.0   \n\n       MULTIPLE_KEYS_UP_D8  MULTIPLE_KEYS_UP_D9  \n6                      3.0                  4.0  \n7                      3.0                  3.0  \n8                      3.0                  4.0  \n9                      3.0                  4.0  \n10                     3.0                  4.0  \n...                    ...                  ...  \n21799                  2.0                  3.0  \n21800                  2.0                  3.0  \n21801                  2.0                  3.0  \n21802                  2.0                  3.0  \n21803                  2.0                  3.0  \n\n[16985 rows x 96 columns]",
      "text/html": "<div>\n<style scoped>\n    .dataframe tbody tr th:only-of-type {\n        vertical-align: middle;\n    }\n\n    .dataframe tbody tr th {\n        vertical-align: top;\n    }\n\n    .dataframe thead th {\n        text-align: right;\n    }\n</style>\n<table border=\"1\" class=\"dataframe\">\n  <thead>\n    <tr style=\"text-align: right;\">\n      <th></th>\n      <th>data_donor_email</th>\n      <th>session_id</th>\n      <th>version</th>\n      <th>event_time</th>\n      <th>A_KEY_TIME_MEAN</th>\n      <th>BOTH_DEV_C_COUNT</th>\n      <th>GAP_D1</th>\n      <th>GAP_D2</th>\n      <th>GAP_D3</th>\n      <th>GAP_D4</th>\n      <th>...</th>\n      <th>MULTIPLE_KEYS_UP</th>\n      <th>MULTIPLE_KEYS_UP_D1</th>\n      <th>MULTIPLE_KEYS_UP_D2</th>\n      <th>MULTIPLE_KEYS_UP_D3</th>\n      <th>MULTIPLE_KEYS_UP_D4</th>\n      <th>MULTIPLE_KEYS_UP_D5</th>\n      <th>MULTIPLE_KEYS_UP_D6</th>\n      <th>MULTIPLE_KEYS_UP_D7</th>\n      <th>MULTIPLE_KEYS_UP_D8</th>\n      <th>MULTIPLE_KEYS_UP_D9</th>\n    </tr>\n  </thead>\n  <tbody>\n    <tr>\n      <th>6</th>\n      <td>007f18a9c4040ebd5addaa48ec64a3b5</td>\n      <td>1</td>\n      <td>7</td>\n      <td>2019-03-27 12:15:43.074</td>\n      <td>0.106</td>\n      <td>0.167</td>\n      <td>0.023</td>\n      <td>0.046</td>\n      <td>0.063</td>\n      <td>0.079</td>\n      <td>...</td>\n      <td>0.0</td>\n      <td>0.0</td>\n      <td>1.0</td>\n      <td>1.0</td>\n      <td>2.0</td>\n      <td>2.0</td>\n      <td>2.0</td>\n      <td>2.0</td>\n      <td>3.0</td>\n      <td>4.0</td>\n    </tr>\n    <tr>\n      <th>7</th>\n      <td>007f18a9c4040ebd5addaa48ec64a3b5</td>\n      <td>1</td>\n      <td>8</td>\n      <td>2019-03-27 12:15:53.300</td>\n      <td>0.108</td>\n      <td>0.143</td>\n      <td>0.017</td>\n      <td>0.045</td>\n      <td>0.063</td>\n      <td>0.073</td>\n      <td>...</td>\n      <td>1.0</td>\n      <td>0.0</td>\n      <td>1.0</td>\n      <td>1.0</td>\n      <td>2.0</td>\n      <td>2.0</td>\n      <td>2.0</td>\n      <td>3.0</td>\n      <td>3.0</td>\n      <td>3.0</td>\n    </tr>\n    <tr>\n      <th>8</th>\n      <td>007f18a9c4040ebd5addaa48ec64a3b5</td>\n      <td>1</td>\n      <td>9</td>\n      <td>2019-03-27 12:16:04.313</td>\n      <td>0.107</td>\n      <td>0.125</td>\n      <td>0.017</td>\n      <td>0.037</td>\n      <td>0.056</td>\n      <td>0.071</td>\n      <td>...</td>\n      <td>0.0</td>\n      <td>0.0</td>\n      <td>1.0</td>\n      <td>1.0</td>\n      <td>2.0</td>\n      <td>2.0</td>\n      <td>2.0</td>\n      <td>3.0</td>\n      <td>3.0</td>\n      <td>4.0</td>\n    </tr>\n    <tr>\n      <th>9</th>\n      <td>007f18a9c4040ebd5addaa48ec64a3b5</td>\n      <td>1</td>\n      <td>10</td>\n      <td>2019-03-27 12:16:16.698</td>\n      <td>0.106</td>\n      <td>0.167</td>\n      <td>0.017</td>\n      <td>0.036</td>\n      <td>0.056</td>\n      <td>0.069</td>\n      <td>...</td>\n      <td>0.0</td>\n      <td>0.0</td>\n      <td>1.0</td>\n      <td>2.0</td>\n      <td>2.0</td>\n      <td>2.0</td>\n      <td>2.0</td>\n      <td>3.0</td>\n      <td>3.0</td>\n      <td>4.0</td>\n    </tr>\n    <tr>\n      <th>10</th>\n      <td>007f18a9c4040ebd5addaa48ec64a3b5</td>\n      <td>1</td>\n      <td>11</td>\n      <td>2019-03-27 12:16:26.876</td>\n      <td>0.106</td>\n      <td>0.167</td>\n      <td>0.020</td>\n      <td>0.037</td>\n      <td>0.059</td>\n      <td>0.071</td>\n      <td>...</td>\n      <td>0.0</td>\n      <td>0.0</td>\n      <td>1.0</td>\n      <td>1.0</td>\n      <td>2.0</td>\n      <td>2.0</td>\n      <td>2.0</td>\n      <td>3.0</td>\n      <td>3.0</td>\n      <td>4.0</td>\n    </tr>\n    <tr>\n      <th>...</th>\n      <td>...</td>\n      <td>...</td>\n      <td>...</td>\n      <td>...</td>\n      <td>...</td>\n      <td>...</td>\n      <td>...</td>\n      <td>...</td>\n      <td>...</td>\n      <td>...</td>\n      <td>...</td>\n      <td>...</td>\n      <td>...</td>\n      <td>...</td>\n      <td>...</td>\n      <td>...</td>\n      <td>...</td>\n      <td>...</td>\n      <td>...</td>\n      <td>...</td>\n      <td>...</td>\n    </tr>\n    <tr>\n      <th>21799</th>\n      <td>f690d1438368d0b3ea405a28e1aa0e2c</td>\n      <td>1</td>\n      <td>89</td>\n      <td>2019-10-30 15:40:33.240</td>\n      <td>0.099</td>\n      <td>0.750</td>\n      <td>0.035</td>\n      <td>0.060</td>\n      <td>0.072</td>\n      <td>0.082</td>\n      <td>...</td>\n      <td>0.0</td>\n      <td>0.0</td>\n      <td>1.0</td>\n      <td>1.0</td>\n      <td>1.0</td>\n      <td>2.0</td>\n      <td>2.0</td>\n      <td>2.0</td>\n      <td>2.0</td>\n      <td>3.0</td>\n    </tr>\n    <tr>\n      <th>21800</th>\n      <td>f690d1438368d0b3ea405a28e1aa0e2c</td>\n      <td>1</td>\n      <td>90</td>\n      <td>2019-10-30 15:40:43.441</td>\n      <td>0.099</td>\n      <td>0.750</td>\n      <td>0.034</td>\n      <td>0.060</td>\n      <td>0.072</td>\n      <td>0.082</td>\n      <td>...</td>\n      <td>0.0</td>\n      <td>0.0</td>\n      <td>1.0</td>\n      <td>1.0</td>\n      <td>1.0</td>\n      <td>2.0</td>\n      <td>2.0</td>\n      <td>2.0</td>\n      <td>2.0</td>\n      <td>3.0</td>\n    </tr>\n    <tr>\n      <th>21801</th>\n      <td>f690d1438368d0b3ea405a28e1aa0e2c</td>\n      <td>1</td>\n      <td>91</td>\n      <td>2019-10-30 15:40:54.138</td>\n      <td>0.099</td>\n      <td>0.755</td>\n      <td>0.034</td>\n      <td>0.060</td>\n      <td>0.072</td>\n      <td>0.082</td>\n      <td>...</td>\n      <td>0.0</td>\n      <td>0.0</td>\n      <td>1.0</td>\n      <td>1.0</td>\n      <td>1.0</td>\n      <td>2.0</td>\n      <td>2.0</td>\n      <td>2.0</td>\n      <td>2.0</td>\n      <td>3.0</td>\n    </tr>\n    <tr>\n      <th>21802</th>\n      <td>f690d1438368d0b3ea405a28e1aa0e2c</td>\n      <td>1</td>\n      <td>92</td>\n      <td>2019-10-30 15:41:04.318</td>\n      <td>0.100</td>\n      <td>0.755</td>\n      <td>0.033</td>\n      <td>0.060</td>\n      <td>0.072</td>\n      <td>0.082</td>\n      <td>...</td>\n      <td>1.0</td>\n      <td>0.0</td>\n      <td>1.0</td>\n      <td>1.0</td>\n      <td>1.0</td>\n      <td>2.0</td>\n      <td>2.0</td>\n      <td>2.0</td>\n      <td>2.0</td>\n      <td>3.0</td>\n    </tr>\n    <tr>\n      <th>21803</th>\n      <td>f690d1438368d0b3ea405a28e1aa0e2c</td>\n      <td>1</td>\n      <td>93</td>\n      <td>2019-10-30 15:41:14.619</td>\n      <td>0.100</td>\n      <td>0.760</td>\n      <td>0.032</td>\n      <td>0.060</td>\n      <td>0.072</td>\n      <td>0.082</td>\n      <td>...</td>\n      <td>0.0</td>\n      <td>0.0</td>\n      <td>1.0</td>\n      <td>1.0</td>\n      <td>1.0</td>\n      <td>2.0</td>\n      <td>2.0</td>\n      <td>2.0</td>\n      <td>2.0</td>\n      <td>3.0</td>\n    </tr>\n  </tbody>\n</table>\n<p>16985 rows × 96 columns</p>\n</div>"
     },
     "execution_count": 46,
     "metadata": {},
     "output_type": "execute_result"
    }
   ],
   "source": [
    "df"
   ],
   "metadata": {
    "collapsed": false
   }
  },
  {
   "cell_type": "code",
   "execution_count": 3,
   "outputs": [
    {
     "name": "stderr",
     "output_type": "stream",
     "text": [
      "100%|██████████| 1/1 [00:07<00:00,  7.82s/it]\n"
     ]
    }
   ],
   "source": [
    "results, models, (x_train, x_test, y_train, y_test) = train_models(models, df)\n",
    "rf = models[0]\n",
    "feature_importance = rf.feature_importances_"
   ],
   "metadata": {
    "collapsed": false
   }
  },
  {
   "cell_type": "code",
   "execution_count": 45,
   "outputs": [
    {
     "data": {
      "text/plain": "<Figure size 2000x1000 with 1 Axes>",
      "image/png": "[encoded data removed]"
     },
     "metadata": {},
     "output_type": "display_data"
    }
   ],
   "source": [
    "fi = pd.DataFrame({'name': df.columns[4:], 'importance': feature_importance})\n",
    "fi.sort_values('importance', inplace=True)\n",
    "\n",
    "n = 10\n",
    "plt.figure(figsize=(20, 10))\n",
    "plt.barh(fi.name[-n:], fi.importance[-n:])\n",
    "plt.show()"
   ],
   "metadata": {
    "collapsed": false
   }
  },
  {
   "cell_type": "code",
   "execution_count": 40,
   "outputs": [],
   "source": [
    "fi.to_csv('src/feature_selection_results/rf_importance.csv', index=False)"
   ],
   "metadata": {
    "collapsed": false
   }
  },
  {
   "cell_type": "code",
   "execution_count": null,
   "outputs": [],
   "source": [
    "feature_counts = [1, 2, 3, 5, 10, 20, 30, 40, 50]\n",
    "\n",
    "sorted_feature_indexes = np.argsort(feature_importance)[::-1]\n",
    "\n",
    "feature_sets = [sorted_feature_indexes[:feature_count] for feature_count in feature_counts]\n",
    "rf_models = []\n",
    "rf_results = []\n",
    "\n",
    "for feature_set in tqdm(feature_sets):\n",
    "    rf_model = RandomForestClassifier(random_state=0)\n",
    "    rf_model.fit(x_train.iloc[:, feature_set], y_train)\n",
    "\n",
    "    rf_models.append(rf_model)\n",
    "    rf_results.append(accuracy_score(y_test, rf_model.predict(x_test.iloc[:, feature_set])))"
   ],
   "metadata": {
    "collapsed": false
   }
  },
  {
   "cell_type": "code",
   "execution_count": 57,
   "outputs": [
    {
     "data": {
      "text/plain": "   n_features  accuracy\n0           1  0.374448\n1           2  0.753312\n2           3  0.925817\n3           5  0.978216\n4          10  0.995290\n5          20  0.997939\n6          30  0.997939\n7          40  0.997939\n8          50  0.998528",
      "text/html": "<div>\n<style scoped>\n    .dataframe tbody tr th:only-of-type {\n        vertical-align: middle;\n    }\n\n    .dataframe tbody tr th {\n        vertical-align: top;\n    }\n\n    .dataframe thead th {\n        text-align: right;\n    }\n</style>\n<table border=\"1\" class=\"dataframe\">\n  <thead>\n    <tr style=\"text-align: right;\">\n      <th></th>\n      <th>n_features</th>\n      <th>accuracy</th>\n    </tr>\n  </thead>\n  <tbody>\n    <tr>\n      <th>0</th>\n      <td>1</td>\n      <td>0.374448</td>\n    </tr>\n    <tr>\n      <th>1</th>\n      <td>2</td>\n      <td>0.753312</td>\n    </tr>\n    <tr>\n      <th>2</th>\n      <td>3</td>\n      <td>0.925817</td>\n    </tr>\n    <tr>\n      <th>3</th>\n      <td>5</td>\n      <td>0.978216</td>\n    </tr>\n    <tr>\n      <th>4</th>\n      <td>10</td>\n      <td>0.995290</td>\n    </tr>\n    <tr>\n      <th>5</th>\n      <td>20</td>\n      <td>0.997939</td>\n    </tr>\n    <tr>\n      <th>6</th>\n      <td>30</td>\n      <td>0.997939</td>\n    </tr>\n    <tr>\n      <th>7</th>\n      <td>40</td>\n      <td>0.997939</td>\n    </tr>\n    <tr>\n      <th>8</th>\n      <td>50</td>\n      <td>0.998528</td>\n    </tr>\n  </tbody>\n</table>\n</div>"
     },
     "execution_count": 57,
     "metadata": {},
     "output_type": "execute_result"
    }
   ],
   "source": [
    "pd.DataFrame({'n_features': feature_counts, 'accuracy': rf_results})"
   ],
   "metadata": {
    "collapsed": false
   }
  },
  {
   "cell_type": "markdown",
   "source": [
    "## Feature groups"
   ],
   "metadata": {
    "collapsed": false
   }
  },
  {
   "cell_type": "code",
   "execution_count": 36,
   "outputs": [],
   "source": [
    "import re\n",
    "\n",
    "column_names = df.columns[4:]\n",
    "\n",
    "def get_group(s):\n",
    "    pattern = re.compile(r\"(.+?)_D[0-9]\")\n",
    "    search = pattern.search(s)\n",
    "    if search is None:\n",
    "        return s\n",
    "    return search.group(1)\n",
    "\n",
    "feature_groups = np.array([get_group(s) for s in column_names])"
   ],
   "metadata": {
    "collapsed": false
   }
  },
  {
   "cell_type": "code",
   "execution_count": 37,
   "outputs": [],
   "source": [
    "feature_groups_map = {s: np.where(feature_groups == s)[0] for s in np.unique(feature_groups)}"
   ],
   "metadata": {
    "collapsed": false
   }
  },
  {
   "cell_type": "code",
   "execution_count": 38,
   "outputs": [
    {
     "data": {
      "text/plain": "array([['KEY_TIME', '0.16983675695730438'],\n       ['KEY_GAP_TIME', '0.16158557005259372'],\n       ['MOUSE_DIR', '0.15170645559405432'],\n       ['GAP', '0.14939075121243864'],\n       ['MOUSE_GAP', '0.11528465150917618'],\n       ['MOUSE_DIST', '0.05841777870815998'],\n       ['MOUSE_SPEED', '0.050503585952281355'],\n       ['MULTIPLE_KEYS_DOWN', '0.04117445273040886'],\n       ['MOUSE_DDIR', '0.026270502880517042'],\n       ['A_KEY_TIME_MEAN', '0.019329601077549156'],\n       ['KEY_TIME_MEAN', '0.015879461512867024'],\n       ['BOTH_DEV_C_COUNT', '0.014193838389250297'],\n       ['MULTIPLE_KEYS_UP', '0.012624653111494048'],\n       ['GAP_SD', '0.006847493563799306'],\n       ['MOUSE_COUNT', '0.004118200530906487'],\n       ['KEY_COUNT', '0.0028362462171991924']], dtype='<U32')"
     },
     "execution_count": 38,
     "metadata": {},
     "output_type": "execute_result"
    }
   ],
   "source": [
    "feature_group_importance = {s: 0 for s in np.unique(feature_groups)}\n",
    "\n",
    "for group, importance in zip(feature_groups, feature_importance):\n",
    "    feature_group_importance[group] += importance\n",
    "\n",
    "feature_group_importance = np.array(list(feature_group_importance.items()))\n",
    "feature_group_importance = feature_group_importance[feature_group_importance[:, 1].argsort()[::-1]]\n",
    "feature_group_importance"
   ],
   "metadata": {
    "collapsed": false
   }
  },
  {
   "cell_type": "code",
   "execution_count": 53,
   "outputs": [
    {
     "name": "stdout",
     "output_type": "stream",
     "text": [
      "0.9911686782455107\n"
     ]
    }
   ],
   "source": [
    "feature_group_count = 1\n",
    "\n",
    "feature_set = np.array([feature for group in feature_group_importance[[2], 0] for feature in feature_groups_map[group]])\n",
    "\n",
    "model = RandomForestClassifier(random_state=0)\n",
    "\n",
    "model.fit(x_train.iloc[:, feature_set], y_train)\n",
    "print(accuracy_score(y_test, model.predict(x_test.iloc[:, feature_set])))"
   ],
   "metadata": {
    "collapsed": false
   }
  },
  {
   "cell_type": "code",
   "execution_count": 52,
   "outputs": [
    {
     "data": {
      "text/plain": "array([36, 37, 38, 39, 40, 41, 42, 43, 44, 54, 55, 56, 57, 58, 59, 60, 61,\n       62, 45, 46, 47, 48, 49, 50, 51, 52, 53], dtype=int64)"
     },
     "execution_count": 52,
     "metadata": {},
     "output_type": "execute_result"
    }
   ],
   "source": [
    "feature_set"
   ],
   "metadata": {
    "collapsed": false
   }
  },
  {
   "cell_type": "markdown",
   "source": [
    "## Feature selection from arbitrary model"
   ],
   "metadata": {
    "collapsed": false
   }
  },
  {
   "cell_type": "code",
   "execution_count": 19,
   "outputs": [
    {
     "name": "stderr",
     "output_type": "stream",
     "text": [
      "100%|██████████| 4/4 [00:18<00:00,  4.59s/it]\n"
     ]
    }
   ],
   "source": [
    "\n",
    "from tqdm import tqdm\n",
    "from sklearn.model_selection import train_test_split\n",
    "from sklearn.feature_selection import SelectFromModel\n",
    "from sklearn.ensemble import GradientBoostingClassifier\n",
    "\n",
    "models = [\n",
    "    RandomForestClassifier(random_state=0),\n",
    "    # GradientBoostingClassifier(),\n",
    "    # MLPClassifier(),\n",
    "    # KNeighborsClassifier(n_neighbors=3, weights='distance'),\n",
    "    # LinearDiscriminantAnalysis()\n",
    "]\n",
    "\n",
    "selectors = [SelectFromModel(estimator=model) for model in models]\n",
    "\n",
    "x = df.iloc[:, 4:]\n",
    "y = df.iloc[:, 0]\n",
    "\n",
    "x_train, x_test, y_train, y_test = train_test_split(x, y, test_size=0.2, random_state=0)\n",
    "\n",
    "for model in tqdm(selectors):\n",
    "    model.fit(x_train, y_train)"
   ],
   "metadata": {
    "collapsed": false
   }
  },
  {
   "cell_type": "code",
   "execution_count": 21,
   "outputs": [
    {
     "ename": "ValueError",
     "evalue": "when `importance_getter=='auto'`, the underlying estimator MLPClassifier should have `coef_` or `feature_importances_` attribute. Either pass a fitted estimator to feature selector or call fit before calling transform.",
     "output_type": "error",
     "traceback": [
      "\u001B[1;31m---------------------------------------------------------------------------\u001B[0m",
      "\u001B[1;31mValueError\u001B[0m                                Traceback (most recent call last)",
      "Input \u001B[1;32mIn [21]\u001B[0m, in \u001B[0;36m<cell line: 3>\u001B[1;34m()\u001B[0m\n\u001B[0;32m      1\u001B[0m \u001B[38;5;28;01mimport\u001B[39;00m \u001B[38;5;21;01mnumpy\u001B[39;00m \u001B[38;5;28;01mas\u001B[39;00m \u001B[38;5;21;01mnp\u001B[39;00m\n\u001B[1;32m----> 3\u001B[0m np\u001B[38;5;241m.\u001B[39msum([s\u001B[38;5;241m.\u001B[39mget_support() \u001B[38;5;28;01mfor\u001B[39;00m s \u001B[38;5;129;01min\u001B[39;00m selectors])\n",
      "Input \u001B[1;32mIn [21]\u001B[0m, in \u001B[0;36m<listcomp>\u001B[1;34m(.0)\u001B[0m\n\u001B[0;32m      1\u001B[0m \u001B[38;5;28;01mimport\u001B[39;00m \u001B[38;5;21;01mnumpy\u001B[39;00m \u001B[38;5;28;01mas\u001B[39;00m \u001B[38;5;21;01mnp\u001B[39;00m\n\u001B[1;32m----> 3\u001B[0m np\u001B[38;5;241m.\u001B[39msum([\u001B[43ms\u001B[49m\u001B[38;5;241;43m.\u001B[39;49m\u001B[43mget_support\u001B[49m\u001B[43m(\u001B[49m\u001B[43m)\u001B[49m \u001B[38;5;28;01mfor\u001B[39;00m s \u001B[38;5;129;01min\u001B[39;00m selectors])\n",
      "File \u001B[1;32m~\\AppData\\Roaming\\Python\\Python310\\site-packages\\sklearn\\feature_selection\\_base.py:53\u001B[0m, in \u001B[0;36mSelectorMixin.get_support\u001B[1;34m(self, indices)\u001B[0m\n\u001B[0;32m     33\u001B[0m \u001B[38;5;28;01mdef\u001B[39;00m \u001B[38;5;21mget_support\u001B[39m(\u001B[38;5;28mself\u001B[39m, indices\u001B[38;5;241m=\u001B[39m\u001B[38;5;28;01mFalse\u001B[39;00m):\n\u001B[0;32m     34\u001B[0m     \u001B[38;5;124;03m\"\"\"\u001B[39;00m\n\u001B[0;32m     35\u001B[0m \u001B[38;5;124;03m    Get a mask, or integer index, of the features selected.\u001B[39;00m\n\u001B[0;32m     36\u001B[0m \n\u001B[1;32m   (...)\u001B[0m\n\u001B[0;32m     51\u001B[0m \u001B[38;5;124;03m        values are indices into the input feature vector.\u001B[39;00m\n\u001B[0;32m     52\u001B[0m \u001B[38;5;124;03m    \"\"\"\u001B[39;00m\n\u001B[1;32m---> 53\u001B[0m     mask \u001B[38;5;241m=\u001B[39m \u001B[38;5;28;43mself\u001B[39;49m\u001B[38;5;241;43m.\u001B[39;49m\u001B[43m_get_support_mask\u001B[49m\u001B[43m(\u001B[49m\u001B[43m)\u001B[49m\n\u001B[0;32m     54\u001B[0m     \u001B[38;5;28;01mreturn\u001B[39;00m mask \u001B[38;5;28;01mif\u001B[39;00m \u001B[38;5;129;01mnot\u001B[39;00m indices \u001B[38;5;28;01melse\u001B[39;00m np\u001B[38;5;241m.\u001B[39mwhere(mask)[\u001B[38;5;241m0\u001B[39m]\n",
      "File \u001B[1;32m~\\AppData\\Roaming\\Python\\Python310\\site-packages\\sklearn\\feature_selection\\_from_model.py:289\u001B[0m, in \u001B[0;36mSelectFromModel._get_support_mask\u001B[1;34m(self)\u001B[0m\n\u001B[0;32m    283\u001B[0m \u001B[38;5;28;01melif\u001B[39;00m max_features \u001B[38;5;129;01mis\u001B[39;00m \u001B[38;5;129;01mnot\u001B[39;00m \u001B[38;5;28;01mNone\u001B[39;00m \u001B[38;5;129;01mand\u001B[39;00m \u001B[38;5;129;01mnot\u001B[39;00m \u001B[38;5;28misinstance\u001B[39m(max_features, Integral):\n\u001B[0;32m    284\u001B[0m     \u001B[38;5;28;01mraise\u001B[39;00m \u001B[38;5;167;01mValueError\u001B[39;00m(\n\u001B[0;32m    285\u001B[0m         \u001B[38;5;124mf\u001B[39m\u001B[38;5;124m\"\u001B[39m\u001B[38;5;124m`max_features` must be an integer. Got `max_features=\u001B[39m\u001B[38;5;132;01m{\u001B[39;00mmax_features\u001B[38;5;132;01m}\u001B[39;00m\u001B[38;5;124m` \u001B[39m\u001B[38;5;124m\"\u001B[39m\n\u001B[0;32m    286\u001B[0m         \u001B[38;5;124m\"\u001B[39m\u001B[38;5;124minstead.\u001B[39m\u001B[38;5;124m\"\u001B[39m\n\u001B[0;32m    287\u001B[0m     )\n\u001B[1;32m--> 289\u001B[0m scores \u001B[38;5;241m=\u001B[39m \u001B[43m_get_feature_importances\u001B[49m\u001B[43m(\u001B[49m\n\u001B[0;32m    290\u001B[0m \u001B[43m    \u001B[49m\u001B[43mestimator\u001B[49m\u001B[38;5;241;43m=\u001B[39;49m\u001B[43mestimator\u001B[49m\u001B[43m,\u001B[49m\n\u001B[0;32m    291\u001B[0m \u001B[43m    \u001B[49m\u001B[43mgetter\u001B[49m\u001B[38;5;241;43m=\u001B[39;49m\u001B[38;5;28;43mself\u001B[39;49m\u001B[38;5;241;43m.\u001B[39;49m\u001B[43mimportance_getter\u001B[49m\u001B[43m,\u001B[49m\n\u001B[0;32m    292\u001B[0m \u001B[43m    \u001B[49m\u001B[43mtransform_func\u001B[49m\u001B[38;5;241;43m=\u001B[39;49m\u001B[38;5;124;43m\"\u001B[39;49m\u001B[38;5;124;43mnorm\u001B[39;49m\u001B[38;5;124;43m\"\u001B[39;49m\u001B[43m,\u001B[49m\n\u001B[0;32m    293\u001B[0m \u001B[43m    \u001B[49m\u001B[43mnorm_order\u001B[49m\u001B[38;5;241;43m=\u001B[39;49m\u001B[38;5;28;43mself\u001B[39;49m\u001B[38;5;241;43m.\u001B[39;49m\u001B[43mnorm_order\u001B[49m\u001B[43m,\u001B[49m\n\u001B[0;32m    294\u001B[0m \u001B[43m\u001B[49m\u001B[43m)\u001B[49m\n\u001B[0;32m    295\u001B[0m threshold \u001B[38;5;241m=\u001B[39m _calculate_threshold(estimator, scores, \u001B[38;5;28mself\u001B[39m\u001B[38;5;241m.\u001B[39mthreshold)\n\u001B[0;32m    296\u001B[0m \u001B[38;5;28;01mif\u001B[39;00m \u001B[38;5;28mself\u001B[39m\u001B[38;5;241m.\u001B[39mmax_features \u001B[38;5;129;01mis\u001B[39;00m \u001B[38;5;129;01mnot\u001B[39;00m \u001B[38;5;28;01mNone\u001B[39;00m:\n",
      "File \u001B[1;32m~\\AppData\\Roaming\\Python\\Python310\\site-packages\\sklearn\\feature_selection\\_base.py:208\u001B[0m, in \u001B[0;36m_get_feature_importances\u001B[1;34m(estimator, getter, transform_func, norm_order)\u001B[0m\n\u001B[0;32m    206\u001B[0m         getter \u001B[38;5;241m=\u001B[39m attrgetter(\u001B[38;5;124m\"\u001B[39m\u001B[38;5;124mfeature_importances_\u001B[39m\u001B[38;5;124m\"\u001B[39m)\n\u001B[0;32m    207\u001B[0m     \u001B[38;5;28;01melse\u001B[39;00m:\n\u001B[1;32m--> 208\u001B[0m         \u001B[38;5;28;01mraise\u001B[39;00m \u001B[38;5;167;01mValueError\u001B[39;00m(\n\u001B[0;32m    209\u001B[0m             \u001B[38;5;124m\"\u001B[39m\u001B[38;5;124mwhen `importance_getter==\u001B[39m\u001B[38;5;124m'\u001B[39m\u001B[38;5;124mauto\u001B[39m\u001B[38;5;124m'\u001B[39m\u001B[38;5;124m`, the underlying \u001B[39m\u001B[38;5;124m\"\u001B[39m\n\u001B[0;32m    210\u001B[0m             \u001B[38;5;124mf\u001B[39m\u001B[38;5;124m\"\u001B[39m\u001B[38;5;124mestimator \u001B[39m\u001B[38;5;132;01m{\u001B[39;00mestimator\u001B[38;5;241m.\u001B[39m\u001B[38;5;18m__class__\u001B[39m\u001B[38;5;241m.\u001B[39m\u001B[38;5;18m__name__\u001B[39m\u001B[38;5;132;01m}\u001B[39;00m\u001B[38;5;124m should have \u001B[39m\u001B[38;5;124m\"\u001B[39m\n\u001B[0;32m    211\u001B[0m             \u001B[38;5;124m\"\u001B[39m\u001B[38;5;124m`coef_` or `feature_importances_` attribute. Either \u001B[39m\u001B[38;5;124m\"\u001B[39m\n\u001B[0;32m    212\u001B[0m             \u001B[38;5;124m\"\u001B[39m\u001B[38;5;124mpass a fitted estimator to feature selector or call fit \u001B[39m\u001B[38;5;124m\"\u001B[39m\n\u001B[0;32m    213\u001B[0m             \u001B[38;5;124m\"\u001B[39m\u001B[38;5;124mbefore calling transform.\u001B[39m\u001B[38;5;124m\"\u001B[39m\n\u001B[0;32m    214\u001B[0m         )\n\u001B[0;32m    215\u001B[0m \u001B[38;5;28;01melse\u001B[39;00m:\n\u001B[0;32m    216\u001B[0m     getter \u001B[38;5;241m=\u001B[39m attrgetter(getter)\n",
      "\u001B[1;31mValueError\u001B[0m: when `importance_getter=='auto'`, the underlying estimator MLPClassifier should have `coef_` or `feature_importances_` attribute. Either pass a fitted estimator to feature selector or call fit before calling transform."
     ]
    }
   ],
   "source": [
    "import numpy as np\n",
    "\n",
    "np.sum([s.get_support() for s in selectors])"
   ],
   "metadata": {
    "collapsed": false
   }
  },
  {
   "cell_type": "code",
   "execution_count": 45,
   "outputs": [
    {
     "data": {
      "text/plain": "array([ True, False,  True,  True,  True,  True, False, False, False,\n       False, False, False, False, False, False, False, False, False,\n       False, False, False, False, False,  True,  True,  True,  True,\n        True,  True,  True, False, False, False, False, False, False,\n       False, False, False, False, False, False, False, False, False,\n       False, False, False, False, False, False, False, False, False,\n       False, False, False, False, False, False, False, False, False,\n       False, False, False, False, False, False, False, False, False,\n       False, False, False, False, False, False, False, False, False,\n       False, False, False, False, False, False, False, False, False,\n       False, False])"
     },
     "execution_count": 45,
     "metadata": {},
     "output_type": "execute_result"
    }
   ],
   "source": [
    "selectors[3].get_support()"
   ],
   "metadata": {
    "collapsed": false
   }
  }
 ],
 "metadata": {
  "kernelspec": {
   "display_name": "Python 3",
   "language": "python",
   "name": "python3"
  },
  "language_info": {
   "codemirror_mode": {
    "name": "ipython",
    "version": 2
   },
   "file_extension": ".py",
   "mimetype": "text/x-python",
   "name": "python",
   "nbconvert_exporter": "python",
   "pygments_lexer": "ipython2",
   "version": "2.7.6"
  }
 },
 "nbformat": 4,
 "nbformat_minor": 0
}
