{
 "cells": [
  {
   "cell_type": "code",
   "execution_count": 7,
   "metadata": {},
   "outputs": [
    {
     "name": "stdout",
     "output_type": "stream",
     "text": [
      "['data_donor_email', 'session_id', 'version', 'event_time', 'A_KEY_TIME_MEAN', 'BOTH_DEV_CC_COUNT', 'BOTH_DEV_C_COUNT', 'BOTH_DEV_M_COUNT', 'CLUSTERED_KEYS', 'CLUSTERED_NR_KEYS', 'CLUSTERED_R_KEYS', 'DELETE_KEY', 'DELETE_KEYS', 'GAP_D1', 'GAP_D2', 'GAP_D3', 'GAP_D4', 'GAP_D5', 'GAP_D6', 'GAP_D7', 'GAP_D8', 'GAP_D9', 'GAP_SD', 'KEY_COUNT', 'KEY_GAP_TIME_D1', 'KEY_GAP_TIME_D2', 'KEY_GAP_TIME_D3', 'KEY_GAP_TIME_D4', 'KEY_GAP_TIME_D5', 'KEY_GAP_TIME_D6', 'KEY_GAP_TIME_D7', 'KEY_GAP_TIME_D8', 'KEY_GAP_TIME_D9', 'KEY_TIME', 'KEY_TIME_D1', 'KEY_TIME_D2', 'KEY_TIME_D3', 'KEY_TIME_D4', 'KEY_TIME_D5', 'KEY_TIME_D6', 'KEY_TIME_D7', 'KEY_TIME_D8', 'KEY_TIME_D9', 'KEY_TIME_MEAN', 'MANY_KEYS_BY_KEY_PRESSED', 'MOUSE_CLICK_RATIO', 'MOUSE_COUNT', 'MOUSE_DDIR_D1', 'MOUSE_DDIR_D2', 'MOUSE_DDIR_D3', 'MOUSE_DDIR_D4', 'MOUSE_DDIR_D5', 'MOUSE_DDIR_D6', 'MOUSE_DDIR_D7', 'MOUSE_DDIR_D8', 'MOUSE_DIR_D1', 'MOUSE_DIR_D2', 'MOUSE_DIR_D3', 'MOUSE_DIR_D4', 'MOUSE_DIR_D5', 'MOUSE_DIR_D6', 'MOUSE_DIR_D7', 'MOUSE_DIR_D8', 'MOUSE_DIR_D9', 'MOUSE_DIST_D1', 'MOUSE_DIST_D2', 'MOUSE_DIST_D3', 'MOUSE_DIST_D4', 'MOUSE_DIST_D5', 'MOUSE_DIST_D6', 'MOUSE_DIST_D7', 'MOUSE_DIST_D8', 'MOUSE_DIST_D9', 'MOUSE_GAP_D1', 'MOUSE_GAP_D2', 'MOUSE_GAP_D3', 'MOUSE_GAP_D4', 'MOUSE_GAP_D5', 'MOUSE_GAP_D6', 'MOUSE_GAP_D7', 'MOUSE_GAP_D8', 'MOUSE_GAP_D9', 'MOUSE_SPEED_D1', 'MOUSE_SPEED_D2', 'MOUSE_SPEED_D3', 'MOUSE_SPEED_D4', 'MOUSE_SPEED_D5', 'MOUSE_SPEED_D6', 'MOUSE_SPEED_D7', 'MOUSE_SPEED_D8', 'MOUSE_SPEED_D9', 'MULTIPLE_KEYS_DOWN', 'MULTIPLE_KEYS_DOWN_D1', 'MULTIPLE_KEYS_DOWN_D2', 'MULTIPLE_KEYS_DOWN_D3', 'MULTIPLE_KEYS_DOWN_D4', 'MULTIPLE_KEYS_DOWN_D5', 'MULTIPLE_KEYS_DOWN_D6', 'MULTIPLE_KEYS_DOWN_D7', 'MULTIPLE_KEYS_DOWN_D8', 'MULTIPLE_KEYS_DOWN_D9', 'MULTIPLE_KEYS_UP', 'MULTIPLE_KEYS_UP_D1', 'MULTIPLE_KEYS_UP_D2', 'MULTIPLE_KEYS_UP_D3', 'MULTIPLE_KEYS_UP_D4', 'MULTIPLE_KEYS_UP_D5', 'MULTIPLE_KEYS_UP_D6', 'MULTIPLE_KEYS_UP_D7', 'MULTIPLE_KEYS_UP_D8', 'MULTIPLE_KEYS_UP_D9', 'R_DELETE', 'R_DELETE_FREQ', 'S_KEY_TIME_MEAN']\n"
     ]
    }
   ],
   "source": [
    "import pandas as pd\n",
    "\n",
    "df = pd.read_csv('..\\data\\data.csv')\n",
    "print(df.columns.tolist())"
   ]
  },
  {
   "cell_type": "code",
   "execution_count": 13,
   "metadata": {},
   "outputs": [],
   "source": [
    "import time\n",
    "\n",
    "import pandas as pd\n",
    "from pandas import DataFrame\n",
    "from sklearn.discriminant_analysis import LinearDiscriminantAnalysis\n",
    "from sklearn.ensemble import RandomForestClassifier, GradientBoostingClassifier\n",
    "from sklearn.linear_model import LogisticRegression\n",
    "from sklearn.metrics import accuracy_score, recall_score\n",
    "from sklearn.model_selection import train_test_split\n",
    "from sklearn.naive_bayes import GaussianNB, BernoulliNB, ComplementNB, MultinomialNB\n",
    "from sklearn.neighbors import KNeighborsClassifier\n",
    "from sklearn.neural_network import MLPClassifier\n",
    "from tqdm import tqdm\n",
    "\n",
    "\n",
    "def remove_na_values(df: DataFrame, drop_column_threshold=0.15):\n",
    "    null_var = df.isnull().sum() / df.shape[0]\n",
    "    drop_columns = null_var[null_var > drop_column_threshold].keys()\n",
    "    df = df.drop(columns=drop_columns)\n",
    "    df = df.dropna()\n",
    "    return df\n",
    "\n",
    "\n",
    "def train_models(models: list, df: DataFrame):\n",
    "    results = pd.DataFrame(columns=['model', 'acc', 'tpr'])\n",
    "    for model in tqdm(models):\n",
    "        x = df.iloc[:, 4:]\n",
    "        y = df.iloc[:, 0]\n",
    "\n",
    "        x_train, x_test, y_train, y_test = train_test_split(x, y, test_size=0.2, random_state=0)\n",
    "\n",
    "        model.fit(x_train, y_train)\n",
    "        # y_pred_proba = model.predict_proba(x_test)\n",
    "        y_pred = model.predict(x_test)\n",
    "\n",
    "        # auc = roc_auc_score(y_test, y_pred_proba, multi_class='ovo')\n",
    "        acc = accuracy_score(y_test, y_pred)\n",
    "        tpr = recall_score(y_test, y_pred, average='micro')\n",
    "\n",
    "        results = results.append({'model': str(model), 'acc': acc, 'tpr': tpr}, ignore_index=True)\n",
    "    return results, models\n"
   ]
  },
  {
   "cell_type": "code",
   "execution_count": 81,
   "metadata": {},
   "outputs": [],
   "source": [
    "import re\n",
    "\n",
    "df = remove_na_values(pd.read_csv('C:\\\\Users\\\\smatuszewski_adm\\\\Desktop\\\\PW\\\\4sem\\\\DSW\\\\DataScienceWorkshop2023L\\\\data\\\\data.csv'))\n",
    "\n",
    "column_names = df.columns[4:]\n",
    "\n",
    "def get_group(s):\n",
    "    pattern = re.compile(r\"(.+?)_D[0-9]\")\n",
    "    search = pattern.search(s)\n",
    "    if search is None:\n",
    "        return s\n",
    "    return search.group(1)\n",
    "\n",
    "feature_groups = np.array([get_group(s) for s in column_names])"
   ]
  },
  {
   "cell_type": "code",
   "execution_count": 69,
   "metadata": {},
   "outputs": [],
   "source": [
    "def remove_columns_ints(df: DataFrame, exclude_columns: list):\n",
    "    columns_to_remove = [x + 4 for x in exclude_columns]\n",
    "    print(columns_to_remove)\n",
    "    print(exclude_columns)\n",
    "    result = df.drop(df.columns[columns_to_remove], axis=1)\n",
    "    return result"
   ]
  },
  {
   "cell_type": "code",
   "execution_count": 95,
   "metadata": {},
   "outputs": [],
   "source": [
    "def remain_columns_ints(df: DataFrame, remain_columns: list):\n",
    "    columns_to_remain = [0,1,2,3] + [x + 4 for x in remain_columns]\n",
    "    \n",
    "    result = df.iloc[:, columns_to_remain]\n",
    "    print(result.shape)\n",
    "    return result"
   ]
  },
  {
   "cell_type": "code",
   "execution_count": 16,
   "metadata": {},
   "outputs": [
    {
     "data": {
      "text/plain": [
       "array(['A_KEY_TIME_MEAN', 'BOTH_DEV_C_COUNT', 'GAP', 'GAP', 'GAP', 'GAP',\n",
       "       'GAP', 'GAP', 'GAP', 'GAP', 'GAP', 'GAP_SD', 'KEY_COUNT',\n",
       "       'KEY_GAP_TIME', 'KEY_GAP_TIME', 'KEY_GAP_TIME', 'KEY_GAP_TIME',\n",
       "       'KEY_GAP_TIME', 'KEY_GAP_TIME', 'KEY_GAP_TIME', 'KEY_GAP_TIME',\n",
       "       'KEY_GAP_TIME', 'KEY_TIME', 'KEY_TIME', 'KEY_TIME', 'KEY_TIME',\n",
       "       'KEY_TIME', 'KEY_TIME', 'KEY_TIME', 'KEY_TIME', 'KEY_TIME',\n",
       "       'KEY_TIME', 'KEY_TIME_MEAN', 'MOUSE_COUNT', 'MOUSE_DDIR',\n",
       "       'MOUSE_DDIR', 'MOUSE_DIR', 'MOUSE_DIR', 'MOUSE_DIR', 'MOUSE_DIR',\n",
       "       'MOUSE_DIR', 'MOUSE_DIR', 'MOUSE_DIR', 'MOUSE_DIR', 'MOUSE_DIR',\n",
       "       'MOUSE_DIST', 'MOUSE_DIST', 'MOUSE_DIST', 'MOUSE_DIST',\n",
       "       'MOUSE_DIST', 'MOUSE_DIST', 'MOUSE_DIST', 'MOUSE_DIST',\n",
       "       'MOUSE_DIST', 'MOUSE_GAP', 'MOUSE_GAP', 'MOUSE_GAP', 'MOUSE_GAP',\n",
       "       'MOUSE_GAP', 'MOUSE_GAP', 'MOUSE_GAP', 'MOUSE_GAP', 'MOUSE_GAP',\n",
       "       'MOUSE_SPEED', 'MOUSE_SPEED', 'MOUSE_SPEED', 'MOUSE_SPEED',\n",
       "       'MOUSE_SPEED', 'MOUSE_SPEED', 'MOUSE_SPEED', 'MOUSE_SPEED',\n",
       "       'MOUSE_SPEED', 'MULTIPLE_KEYS_DOWN', 'MULTIPLE_KEYS_DOWN',\n",
       "       'MULTIPLE_KEYS_DOWN', 'MULTIPLE_KEYS_DOWN', 'MULTIPLE_KEYS_DOWN',\n",
       "       'MULTIPLE_KEYS_DOWN', 'MULTIPLE_KEYS_DOWN', 'MULTIPLE_KEYS_DOWN',\n",
       "       'MULTIPLE_KEYS_DOWN', 'MULTIPLE_KEYS_DOWN', 'MULTIPLE_KEYS_UP',\n",
       "       'MULTIPLE_KEYS_UP', 'MULTIPLE_KEYS_UP', 'MULTIPLE_KEYS_UP',\n",
       "       'MULTIPLE_KEYS_UP', 'MULTIPLE_KEYS_UP', 'MULTIPLE_KEYS_UP',\n",
       "       'MULTIPLE_KEYS_UP', 'MULTIPLE_KEYS_UP', 'MULTIPLE_KEYS_UP'],\n",
       "      dtype='<U18')"
      ]
     },
     "execution_count": 16,
     "metadata": {},
     "output_type": "execute_result"
    }
   ],
   "source": [
    "feature_groups"
   ]
  },
  {
   "cell_type": "code",
   "execution_count": 17,
   "metadata": {},
   "outputs": [],
   "source": [
    "feature_groups_map = {s: np.where(feature_groups == s)[0] for s in np.unique(feature_groups)}"
   ]
  },
  {
   "cell_type": "code",
   "execution_count": 31,
   "metadata": {},
   "outputs": [
    {
     "data": {
      "text/plain": [
       "{'A_KEY_TIME_MEAN': array([0], dtype=int64),\n",
       " 'BOTH_DEV_C_COUNT': array([1], dtype=int64),\n",
       " 'GAP': array([ 2,  3,  4,  5,  6,  7,  8,  9, 10], dtype=int64),\n",
       " 'GAP_SD': array([11], dtype=int64),\n",
       " 'KEY_COUNT': array([12], dtype=int64),\n",
       " 'KEY_GAP_TIME': array([13, 14, 15, 16, 17, 18, 19, 20, 21], dtype=int64),\n",
       " 'KEY_TIME': array([22, 23, 24, 25, 26, 27, 28, 29, 30, 31], dtype=int64),\n",
       " 'KEY_TIME_MEAN': array([32], dtype=int64),\n",
       " 'MOUSE_COUNT': array([33], dtype=int64),\n",
       " 'MOUSE_DDIR': array([34, 35], dtype=int64),\n",
       " 'MOUSE_DIR': array([36, 37, 38, 39, 40, 41, 42, 43, 44], dtype=int64),\n",
       " 'MOUSE_DIST': array([45, 46, 47, 48, 49, 50, 51, 52, 53], dtype=int64),\n",
       " 'MOUSE_GAP': array([54, 55, 56, 57, 58, 59, 60, 61, 62], dtype=int64),\n",
       " 'MOUSE_SPEED': array([63, 64, 65, 66, 67, 68, 69, 70, 71], dtype=int64),\n",
       " 'MULTIPLE_KEYS_DOWN': array([72, 73, 74, 75, 76, 77, 78, 79, 80, 81], dtype=int64),\n",
       " 'MULTIPLE_KEYS_UP': array([82, 83, 84, 85, 86, 87, 88, 89, 90, 91], dtype=int64)}"
      ]
     },
     "execution_count": 31,
     "metadata": {},
     "output_type": "execute_result"
    }
   ],
   "source": [
    "feature_groups_map"
   ]
  },
  {
   "cell_type": "code",
   "execution_count": 32,
   "metadata": {},
   "outputs": [
    {
     "data": {
      "text/plain": [
       "array([ 2,  3,  4,  5,  6,  7,  8,  9, 10], dtype=int64)"
      ]
     },
     "execution_count": 32,
     "metadata": {},
     "output_type": "execute_result"
    }
   ],
   "source": [
    "feature_groups_map['GAP']"
   ]
  },
  {
   "cell_type": "code",
   "execution_count": null,
   "metadata": {},
   "outputs": [],
   "source": [
    "models = [\n",
    "    # KNeighborsClassifier(3, weights=\"distance\"),\n",
    "    # GaussianNB(),\n",
    "    # BernoulliNB(),\n",
    "    # ComplementNB(),\n",
    "    # MultinomialNB(),\n",
    "    RandomForestClassifier(),\n",
    "    # LogisticRegression(),\n",
    "    # LinearDiscriminantAnalysis(),\n",
    "    # MLPClassifier(),\n",
    "    # GradientBoostingClassifier() #likely to require approx. 30min of training time\n",
    "]\n",
    "\n",
    "# df = remove_na_values(pd.read_csv('..\\data\\data.csv'))\n",
    "\n",
    "results_df_groups = pd.DataFrame(columns=['removed_group', 'n_columns', 'model', 'acc', 'tpr'])\n",
    "\n",
    "for key, value in feature_groups_map.items():\n",
    "\n",
    "    print(key)\n",
    "    print(\"i:\", value)\n",
    "\n",
    "    df_trimmed = remove_columns_ints(df, value)\n",
    "\n",
    "    results, models = train_models(models, df_trimmed)\n",
    "\n",
    "    print(type(results['acc']), results['acc'][0])\n",
    "    results_df_groups = results_df_groups.append({'removed_group': key, 'n_columns': df_trimmed.shape[1] - 4, 'model': results['model'][0], 'acc': results['acc'][0], 'tpr': results['tpr'][0]}, ignore_index=True)\n",
    "\n",
    "    #results.to_csv(f'classification_results\\\\{int(time.time())}_{key}.csv', index=False)\n"
   ]
  },
  {
   "cell_type": "code",
   "execution_count": 91,
   "metadata": {},
   "outputs": [
    {
     "data": {
      "text/html": [
       "<div>\n",
       "<style scoped>\n",
       "    .dataframe tbody tr th:only-of-type {\n",
       "        vertical-align: middle;\n",
       "    }\n",
       "\n",
       "    .dataframe tbody tr th {\n",
       "        vertical-align: top;\n",
       "    }\n",
       "\n",
       "    .dataframe thead th {\n",
       "        text-align: right;\n",
       "    }\n",
       "</style>\n",
       "<table border=\"1\" class=\"dataframe\">\n",
       "  <thead>\n",
       "    <tr style=\"text-align: right;\">\n",
       "      <th></th>\n",
       "      <th>removed_group</th>\n",
       "      <th>model</th>\n",
       "      <th>acc</th>\n",
       "      <th>tpr</th>\n",
       "    </tr>\n",
       "  </thead>\n",
       "  <tbody>\n",
       "    <tr>\n",
       "      <th>0</th>\n",
       "      <td>A_KEY_TIME_MEAN</td>\n",
       "      <td>RandomForestClassifier()</td>\n",
       "      <td>0.999411</td>\n",
       "      <td>0.999411</td>\n",
       "    </tr>\n",
       "    <tr>\n",
       "      <th>1</th>\n",
       "      <td>BOTH_DEV_C_COUNT</td>\n",
       "      <td>RandomForestClassifier()</td>\n",
       "      <td>0.999117</td>\n",
       "      <td>0.999117</td>\n",
       "    </tr>\n",
       "    <tr>\n",
       "      <th>2</th>\n",
       "      <td>GAP</td>\n",
       "      <td>RandomForestClassifier()</td>\n",
       "      <td>0.999411</td>\n",
       "      <td>0.999411</td>\n",
       "    </tr>\n",
       "    <tr>\n",
       "      <th>3</th>\n",
       "      <td>GAP_SD</td>\n",
       "      <td>RandomForestClassifier()</td>\n",
       "      <td>0.998822</td>\n",
       "      <td>0.998822</td>\n",
       "    </tr>\n",
       "    <tr>\n",
       "      <th>4</th>\n",
       "      <td>KEY_COUNT</td>\n",
       "      <td>RandomForestClassifier()</td>\n",
       "      <td>0.998822</td>\n",
       "      <td>0.998822</td>\n",
       "    </tr>\n",
       "    <tr>\n",
       "      <th>5</th>\n",
       "      <td>KEY_GAP_TIME</td>\n",
       "      <td>RandomForestClassifier()</td>\n",
       "      <td>0.999117</td>\n",
       "      <td>0.999117</td>\n",
       "    </tr>\n",
       "    <tr>\n",
       "      <th>6</th>\n",
       "      <td>KEY_TIME</td>\n",
       "      <td>RandomForestClassifier()</td>\n",
       "      <td>0.999117</td>\n",
       "      <td>0.999117</td>\n",
       "    </tr>\n",
       "    <tr>\n",
       "      <th>7</th>\n",
       "      <td>KEY_TIME_MEAN</td>\n",
       "      <td>RandomForestClassifier()</td>\n",
       "      <td>0.998822</td>\n",
       "      <td>0.998822</td>\n",
       "    </tr>\n",
       "    <tr>\n",
       "      <th>8</th>\n",
       "      <td>MOUSE_COUNT</td>\n",
       "      <td>RandomForestClassifier()</td>\n",
       "      <td>0.998528</td>\n",
       "      <td>0.998528</td>\n",
       "    </tr>\n",
       "    <tr>\n",
       "      <th>9</th>\n",
       "      <td>MOUSE_DDIR</td>\n",
       "      <td>RandomForestClassifier()</td>\n",
       "      <td>0.998528</td>\n",
       "      <td>0.998528</td>\n",
       "    </tr>\n",
       "    <tr>\n",
       "      <th>10</th>\n",
       "      <td>MOUSE_DIR</td>\n",
       "      <td>RandomForestClassifier()</td>\n",
       "      <td>0.999411</td>\n",
       "      <td>0.999411</td>\n",
       "    </tr>\n",
       "    <tr>\n",
       "      <th>11</th>\n",
       "      <td>MOUSE_DIST</td>\n",
       "      <td>RandomForestClassifier()</td>\n",
       "      <td>0.999411</td>\n",
       "      <td>0.999411</td>\n",
       "    </tr>\n",
       "    <tr>\n",
       "      <th>12</th>\n",
       "      <td>MOUSE_GAP</td>\n",
       "      <td>RandomForestClassifier()</td>\n",
       "      <td>0.998234</td>\n",
       "      <td>0.998234</td>\n",
       "    </tr>\n",
       "    <tr>\n",
       "      <th>13</th>\n",
       "      <td>MOUSE_SPEED</td>\n",
       "      <td>RandomForestClassifier()</td>\n",
       "      <td>0.999117</td>\n",
       "      <td>0.999117</td>\n",
       "    </tr>\n",
       "    <tr>\n",
       "      <th>14</th>\n",
       "      <td>MULTIPLE_KEYS_DOWN</td>\n",
       "      <td>RandomForestClassifier()</td>\n",
       "      <td>0.999117</td>\n",
       "      <td>0.999117</td>\n",
       "    </tr>\n",
       "    <tr>\n",
       "      <th>15</th>\n",
       "      <td>MULTIPLE_KEYS_UP</td>\n",
       "      <td>RandomForestClassifier()</td>\n",
       "      <td>0.999117</td>\n",
       "      <td>0.999117</td>\n",
       "    </tr>\n",
       "  </tbody>\n",
       "</table>\n",
       "</div>"
      ],
      "text/plain": [
       "         removed_group                     model       acc       tpr\n",
       "0      A_KEY_TIME_MEAN  RandomForestClassifier()  0.999411  0.999411\n",
       "1     BOTH_DEV_C_COUNT  RandomForestClassifier()  0.999117  0.999117\n",
       "2                  GAP  RandomForestClassifier()  0.999411  0.999411\n",
       "3               GAP_SD  RandomForestClassifier()  0.998822  0.998822\n",
       "4            KEY_COUNT  RandomForestClassifier()  0.998822  0.998822\n",
       "5         KEY_GAP_TIME  RandomForestClassifier()  0.999117  0.999117\n",
       "6             KEY_TIME  RandomForestClassifier()  0.999117  0.999117\n",
       "7        KEY_TIME_MEAN  RandomForestClassifier()  0.998822  0.998822\n",
       "8          MOUSE_COUNT  RandomForestClassifier()  0.998528  0.998528\n",
       "9           MOUSE_DDIR  RandomForestClassifier()  0.998528  0.998528\n",
       "10           MOUSE_DIR  RandomForestClassifier()  0.999411  0.999411\n",
       "11          MOUSE_DIST  RandomForestClassifier()  0.999411  0.999411\n",
       "12           MOUSE_GAP  RandomForestClassifier()  0.998234  0.998234\n",
       "13         MOUSE_SPEED  RandomForestClassifier()  0.999117  0.999117\n",
       "14  MULTIPLE_KEYS_DOWN  RandomForestClassifier()  0.999117  0.999117\n",
       "15    MULTIPLE_KEYS_UP  RandomForestClassifier()  0.999117  0.999117"
      ]
     },
     "execution_count": 91,
     "metadata": {},
     "output_type": "execute_result"
    }
   ],
   "source": [
    "results_df_groups\n"
   ]
  },
  {
   "cell_type": "code",
   "execution_count": 92,
   "metadata": {},
   "outputs": [],
   "source": [
    "results_df_groups.to_csv(f'classification_results\\\\groups_removal.csv', index=False)"
   ]
  },
  {
   "attachments": {},
   "cell_type": "markdown",
   "metadata": {},
   "source": [
    "## Remaining only single groups"
   ]
  },
  {
   "cell_type": "code",
   "execution_count": 96,
   "metadata": {},
   "outputs": [
    {
     "name": "stdout",
     "output_type": "stream",
     "text": [
      "A_KEY_TIME_MEAN\n",
      "i: [0]\n",
      "(16985, 5)\n"
     ]
    },
    {
     "name": "stderr",
     "output_type": "stream",
     "text": [
      "100%|██████████| 1/1 [00:01<00:00,  1.51s/it]\n"
     ]
    },
    {
     "name": "stdout",
     "output_type": "stream",
     "text": [
      "<class 'pandas.core.series.Series'> 0.221371798645864\n",
      "BOTH_DEV_C_COUNT\n",
      "i: [1]\n",
      "(16985, 5)\n"
     ]
    },
    {
     "name": "stderr",
     "output_type": "stream",
     "text": [
      "100%|██████████| 1/1 [00:01<00:00,  1.92s/it]\n"
     ]
    },
    {
     "name": "stdout",
     "output_type": "stream",
     "text": [
      "<class 'pandas.core.series.Series'> 0.10538710627023845\n",
      "GAP\n",
      "i: [ 2  3  4  5  6  7  8  9 10]\n",
      "(16985, 13)\n"
     ]
    },
    {
     "name": "stderr",
     "output_type": "stream",
     "text": [
      "100%|██████████| 1/1 [00:03<00:00,  3.37s/it]\n"
     ]
    },
    {
     "name": "stdout",
     "output_type": "stream",
     "text": [
      "<class 'pandas.core.series.Series'> 0.9894024138946129\n",
      "GAP_SD\n",
      "i: [11]\n",
      "(16985, 5)\n"
     ]
    },
    {
     "name": "stderr",
     "output_type": "stream",
     "text": [
      "100%|██████████| 1/1 [00:04<00:00,  4.88s/it]\n"
     ]
    },
    {
     "name": "stdout",
     "output_type": "stream",
     "text": [
      "<class 'pandas.core.series.Series'> 0.06123049749779217\n",
      "KEY_COUNT\n",
      "i: [12]\n",
      "(16985, 5)\n"
     ]
    },
    {
     "name": "stderr",
     "output_type": "stream",
     "text": [
      "100%|██████████| 1/1 [00:05<00:00,  5.37s/it]\n"
     ]
    },
    {
     "name": "stdout",
     "output_type": "stream",
     "text": [
      "<class 'pandas.core.series.Series'> 0.013246982631733883\n",
      "KEY_GAP_TIME\n",
      "i: [13 14 15 16 17 18 19 20 21]\n",
      "(16985, 13)\n"
     ]
    },
    {
     "name": "stderr",
     "output_type": "stream",
     "text": [
      "100%|██████████| 1/1 [00:04<00:00,  4.12s/it]\n"
     ]
    },
    {
     "name": "stdout",
     "output_type": "stream",
     "text": [
      "<class 'pandas.core.series.Series'> 0.983809243450103\n",
      "KEY_TIME\n",
      "i: [22 23 24 25 26 27 28 29 30 31]\n",
      "(16985, 14)\n"
     ]
    },
    {
     "name": "stderr",
     "output_type": "stream",
     "text": [
      "100%|██████████| 1/1 [00:03<00:00,  3.11s/it]\n"
     ]
    },
    {
     "name": "stdout",
     "output_type": "stream",
     "text": [
      "<class 'pandas.core.series.Series'> 0.9570209007948189\n",
      "KEY_TIME_MEAN\n",
      "i: [32]\n",
      "(16985, 5)\n"
     ]
    },
    {
     "name": "stderr",
     "output_type": "stream",
     "text": [
      "100%|██████████| 1/1 [00:01<00:00,  1.45s/it]\n"
     ]
    },
    {
     "name": "stdout",
     "output_type": "stream",
     "text": [
      "<class 'pandas.core.series.Series'> 0.19958787165145717\n",
      "MOUSE_COUNT\n",
      "i: [33]\n",
      "(16985, 5)\n"
     ]
    },
    {
     "name": "stderr",
     "output_type": "stream",
     "text": [
      "100%|██████████| 1/1 [00:02<00:00,  2.07s/it]\n"
     ]
    },
    {
     "name": "stdout",
     "output_type": "stream",
     "text": [
      "<class 'pandas.core.series.Series'> 0.02590521047983515\n",
      "MOUSE_DDIR\n",
      "i: [34 35]\n",
      "(16985, 6)\n"
     ]
    },
    {
     "name": "stderr",
     "output_type": "stream",
     "text": [
      "100%|██████████| 1/1 [00:04<00:00,  4.85s/it]\n"
     ]
    },
    {
     "name": "stdout",
     "output_type": "stream",
     "text": [
      "<class 'pandas.core.series.Series'> 0.5919929349425964\n",
      "MOUSE_DIR\n",
      "i: [36 37 38 39 40 41 42 43 44]\n",
      "(16985, 13)\n"
     ]
    },
    {
     "name": "stderr",
     "output_type": "stream",
     "text": [
      "100%|██████████| 1/1 [00:04<00:00,  4.80s/it]\n"
     ]
    },
    {
     "name": "stdout",
     "output_type": "stream",
     "text": [
      "<class 'pandas.core.series.Series'> 0.9899911686782455\n",
      "MOUSE_DIST\n",
      "i: [45 46 47 48 49 50 51 52 53]\n",
      "(16985, 13)\n"
     ]
    },
    {
     "name": "stderr",
     "output_type": "stream",
     "text": [
      "100%|██████████| 1/1 [00:03<00:00,  3.13s/it]\n"
     ]
    },
    {
     "name": "stdout",
     "output_type": "stream",
     "text": [
      "<class 'pandas.core.series.Series'> 0.9708566382101854\n",
      "MOUSE_GAP\n",
      "i: [54 55 56 57 58 59 60 61 62]\n",
      "(16985, 13)\n"
     ]
    },
    {
     "name": "stderr",
     "output_type": "stream",
     "text": [
      "100%|██████████| 1/1 [00:03<00:00,  3.68s/it]\n"
     ]
    },
    {
     "name": "stdout",
     "output_type": "stream",
     "text": [
      "<class 'pandas.core.series.Series'> 0.9894024138946129\n",
      "MOUSE_SPEED\n",
      "i: [63 64 65 66 67 68 69 70 71]\n",
      "(16985, 13)\n"
     ]
    },
    {
     "name": "stderr",
     "output_type": "stream",
     "text": [
      "100%|██████████| 1/1 [00:03<00:00,  3.45s/it]\n"
     ]
    },
    {
     "name": "stdout",
     "output_type": "stream",
     "text": [
      "<class 'pandas.core.series.Series'> 0.9626140712393289\n",
      "MULTIPLE_KEYS_DOWN\n",
      "i: [72 73 74 75 76 77 78 79 80 81]\n",
      "(16985, 14)\n"
     ]
    },
    {
     "name": "stderr",
     "output_type": "stream",
     "text": [
      "100%|██████████| 1/1 [00:01<00:00,  1.61s/it]\n"
     ]
    },
    {
     "name": "stdout",
     "output_type": "stream",
     "text": [
      "<class 'pandas.core.series.Series'> 0.24021195172210774\n",
      "MULTIPLE_KEYS_UP\n",
      "i: [82 83 84 85 86 87 88 89 90 91]\n",
      "(16985, 14)\n"
     ]
    },
    {
     "name": "stderr",
     "output_type": "stream",
     "text": [
      "100%|██████████| 1/1 [00:01<00:00,  1.19s/it]"
     ]
    },
    {
     "name": "stdout",
     "output_type": "stream",
     "text": [
      "<class 'pandas.core.series.Series'> 0.158375036797174\n"
     ]
    },
    {
     "name": "stderr",
     "output_type": "stream",
     "text": [
      "\n"
     ]
    }
   ],
   "source": [
    "models = [\n",
    "    # KNeighborsClassifier(3, weights=\"distance\"),\n",
    "    # GaussianNB(),\n",
    "    # BernoulliNB(),\n",
    "    # ComplementNB(),\n",
    "    # MultinomialNB(),\n",
    "    RandomForestClassifier(),\n",
    "    # LogisticRegression(),\n",
    "    # LinearDiscriminantAnalysis(),\n",
    "    # MLPClassifier(),\n",
    "    # GradientBoostingClassifier() #likely to require approx. 30min of training time\n",
    "]\n",
    "\n",
    "# df = remove_na_values(pd.read_csv('..\\data\\data.csv'))\n",
    "\n",
    "results_df_groups_remain = pd.DataFrame(columns=['removed_group', 'n_columns','model', 'acc', 'tpr'])\n",
    "\n",
    "for key, value in feature_groups_map.items():\n",
    "\n",
    "    print(key)\n",
    "    print(\"i:\", value)\n",
    "\n",
    "    df_trimmed = remain_columns_ints(df, value)\n",
    "\n",
    "    results, models = train_models(models, df_trimmed)\n",
    "\n",
    "    print(type(results['acc']), results['acc'][0])\n",
    "    results_df_groups_remain = results_df_groups_remain.append({'removed_group': key, 'n_columns': df_trimmed.shape[1] - 4,  'model': results['model'][0], 'acc': results['acc'][0], 'tpr': results['tpr'][0]}, ignore_index=True)\n"
   ]
  },
  {
   "cell_type": "code",
   "execution_count": 97,
   "metadata": {},
   "outputs": [
    {
     "data": {
      "text/html": [
       "<div>\n",
       "<style scoped>\n",
       "    .dataframe tbody tr th:only-of-type {\n",
       "        vertical-align: middle;\n",
       "    }\n",
       "\n",
       "    .dataframe tbody tr th {\n",
       "        vertical-align: top;\n",
       "    }\n",
       "\n",
       "    .dataframe thead th {\n",
       "        text-align: right;\n",
       "    }\n",
       "</style>\n",
       "<table border=\"1\" class=\"dataframe\">\n",
       "  <thead>\n",
       "    <tr style=\"text-align: right;\">\n",
       "      <th></th>\n",
       "      <th>removed_group</th>\n",
       "      <th>model</th>\n",
       "      <th>acc</th>\n",
       "      <th>tpr</th>\n",
       "    </tr>\n",
       "  </thead>\n",
       "  <tbody>\n",
       "    <tr>\n",
       "      <th>0</th>\n",
       "      <td>A_KEY_TIME_MEAN</td>\n",
       "      <td>RandomForestClassifier()</td>\n",
       "      <td>0.221372</td>\n",
       "      <td>0.221372</td>\n",
       "    </tr>\n",
       "    <tr>\n",
       "      <th>1</th>\n",
       "      <td>BOTH_DEV_C_COUNT</td>\n",
       "      <td>RandomForestClassifier()</td>\n",
       "      <td>0.105387</td>\n",
       "      <td>0.105387</td>\n",
       "    </tr>\n",
       "    <tr>\n",
       "      <th>2</th>\n",
       "      <td>GAP</td>\n",
       "      <td>RandomForestClassifier()</td>\n",
       "      <td>0.989402</td>\n",
       "      <td>0.989402</td>\n",
       "    </tr>\n",
       "    <tr>\n",
       "      <th>3</th>\n",
       "      <td>GAP_SD</td>\n",
       "      <td>RandomForestClassifier()</td>\n",
       "      <td>0.061230</td>\n",
       "      <td>0.061230</td>\n",
       "    </tr>\n",
       "    <tr>\n",
       "      <th>4</th>\n",
       "      <td>KEY_COUNT</td>\n",
       "      <td>RandomForestClassifier()</td>\n",
       "      <td>0.013247</td>\n",
       "      <td>0.013247</td>\n",
       "    </tr>\n",
       "    <tr>\n",
       "      <th>5</th>\n",
       "      <td>KEY_GAP_TIME</td>\n",
       "      <td>RandomForestClassifier()</td>\n",
       "      <td>0.983809</td>\n",
       "      <td>0.983809</td>\n",
       "    </tr>\n",
       "    <tr>\n",
       "      <th>6</th>\n",
       "      <td>KEY_TIME</td>\n",
       "      <td>RandomForestClassifier()</td>\n",
       "      <td>0.957021</td>\n",
       "      <td>0.957021</td>\n",
       "    </tr>\n",
       "    <tr>\n",
       "      <th>7</th>\n",
       "      <td>KEY_TIME_MEAN</td>\n",
       "      <td>RandomForestClassifier()</td>\n",
       "      <td>0.199588</td>\n",
       "      <td>0.199588</td>\n",
       "    </tr>\n",
       "    <tr>\n",
       "      <th>8</th>\n",
       "      <td>MOUSE_COUNT</td>\n",
       "      <td>RandomForestClassifier()</td>\n",
       "      <td>0.025905</td>\n",
       "      <td>0.025905</td>\n",
       "    </tr>\n",
       "    <tr>\n",
       "      <th>9</th>\n",
       "      <td>MOUSE_DDIR</td>\n",
       "      <td>RandomForestClassifier()</td>\n",
       "      <td>0.591993</td>\n",
       "      <td>0.591993</td>\n",
       "    </tr>\n",
       "    <tr>\n",
       "      <th>10</th>\n",
       "      <td>MOUSE_DIR</td>\n",
       "      <td>RandomForestClassifier()</td>\n",
       "      <td>0.989991</td>\n",
       "      <td>0.989991</td>\n",
       "    </tr>\n",
       "    <tr>\n",
       "      <th>11</th>\n",
       "      <td>MOUSE_DIST</td>\n",
       "      <td>RandomForestClassifier()</td>\n",
       "      <td>0.970857</td>\n",
       "      <td>0.970857</td>\n",
       "    </tr>\n",
       "    <tr>\n",
       "      <th>12</th>\n",
       "      <td>MOUSE_GAP</td>\n",
       "      <td>RandomForestClassifier()</td>\n",
       "      <td>0.989402</td>\n",
       "      <td>0.989402</td>\n",
       "    </tr>\n",
       "    <tr>\n",
       "      <th>13</th>\n",
       "      <td>MOUSE_SPEED</td>\n",
       "      <td>RandomForestClassifier()</td>\n",
       "      <td>0.962614</td>\n",
       "      <td>0.962614</td>\n",
       "    </tr>\n",
       "    <tr>\n",
       "      <th>14</th>\n",
       "      <td>MULTIPLE_KEYS_DOWN</td>\n",
       "      <td>RandomForestClassifier()</td>\n",
       "      <td>0.240212</td>\n",
       "      <td>0.240212</td>\n",
       "    </tr>\n",
       "    <tr>\n",
       "      <th>15</th>\n",
       "      <td>MULTIPLE_KEYS_UP</td>\n",
       "      <td>RandomForestClassifier()</td>\n",
       "      <td>0.158375</td>\n",
       "      <td>0.158375</td>\n",
       "    </tr>\n",
       "  </tbody>\n",
       "</table>\n",
       "</div>"
      ],
      "text/plain": [
       "         removed_group                     model       acc       tpr\n",
       "0      A_KEY_TIME_MEAN  RandomForestClassifier()  0.221372  0.221372\n",
       "1     BOTH_DEV_C_COUNT  RandomForestClassifier()  0.105387  0.105387\n",
       "2                  GAP  RandomForestClassifier()  0.989402  0.989402\n",
       "3               GAP_SD  RandomForestClassifier()  0.061230  0.061230\n",
       "4            KEY_COUNT  RandomForestClassifier()  0.013247  0.013247\n",
       "5         KEY_GAP_TIME  RandomForestClassifier()  0.983809  0.983809\n",
       "6             KEY_TIME  RandomForestClassifier()  0.957021  0.957021\n",
       "7        KEY_TIME_MEAN  RandomForestClassifier()  0.199588  0.199588\n",
       "8          MOUSE_COUNT  RandomForestClassifier()  0.025905  0.025905\n",
       "9           MOUSE_DDIR  RandomForestClassifier()  0.591993  0.591993\n",
       "10           MOUSE_DIR  RandomForestClassifier()  0.989991  0.989991\n",
       "11          MOUSE_DIST  RandomForestClassifier()  0.970857  0.970857\n",
       "12           MOUSE_GAP  RandomForestClassifier()  0.989402  0.989402\n",
       "13         MOUSE_SPEED  RandomForestClassifier()  0.962614  0.962614\n",
       "14  MULTIPLE_KEYS_DOWN  RandomForestClassifier()  0.240212  0.240212\n",
       "15    MULTIPLE_KEYS_UP  RandomForestClassifier()  0.158375  0.158375"
      ]
     },
     "execution_count": 97,
     "metadata": {},
     "output_type": "execute_result"
    }
   ],
   "source": [
    "results_df_groups_remain"
   ]
  },
  {
   "cell_type": "code",
   "execution_count": null,
   "metadata": {},
   "outputs": [],
   "source": []
  }
 ],
 "metadata": {
  "kernelspec": {
   "display_name": "Python 3",
   "language": "python",
   "name": "python3"
  },
  "language_info": {
   "codemirror_mode": {
    "name": "ipython",
    "version": 3
   },
   "file_extension": ".py",
   "mimetype": "text/x-python",
   "name": "python",
   "nbconvert_exporter": "python",
   "pygments_lexer": "ipython3",
   "version": "3.7.8"
  },
  "orig_nbformat": 4
 },
 "nbformat": 4,
 "nbformat_minor": 2
}
